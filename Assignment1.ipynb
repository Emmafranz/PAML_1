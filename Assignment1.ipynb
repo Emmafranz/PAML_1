{
 "cells": [
  {
   "attachments": {},
   "cell_type": "markdown",
   "id": "1738c57d",
   "metadata": {},
   "source": [
    "Testing git"
   ]
  },
  {
   "attachments": {},
   "cell_type": "markdown",
   "id": "766e2b21",
   "metadata": {},
   "source": [
    "## Introduction\n",
    "TODO"
   ]
  },
  {
   "cell_type": "code",
   "execution_count": 1,
   "id": "41b8176f",
   "metadata": {},
   "outputs": [],
   "source": [
    "# Run for required packages\n",
    "import pandas as pd\n",
    "import numpy as np\n",
    "import matplotlib.pyplot as plt\n",
    "from sklearn.model_selection import train_test_split\n",
    "from sklearn.model_selection import KFold\n",
    "from sklearn.model_selection import GridSearchCV\n",
    "from sklearn.model_selection import cross_val_score\n",
    "from sklearn.svm import SVC\n",
    "from sklearn.ensemble import RandomForestClassifier\n",
    "from sklearn.neighbors import KNeighborsClassifier\n",
    "from sklearn.metrics import classification_report, confusion_matrix #accuracy metrics for each classification\n",
    "from sklearn.metrics import accuracy_score\n",
    "from sklearn.metrics import mean_squared_error"
   ]
  },
  {
   "cell_type": "markdown",
   "id": "498ed708",
   "metadata": {},
   "source": [
    "## Dataset Description\n",
    "Our dataset consists of quantitative descriptions of various wines. There are 1599 wines sampled. We have 11 features for each observation, each with a numeric rating of a physiochemical property of the wine such as alcohol content and acidity. The output variable we seek to predict corresponds to the quality rating of each wine on a scale from 0 to 10, from sensory data. There are no missing values. "
   ]
  },
  {
   "cell_type": "code",
   "execution_count": 2,
   "id": "fa0fdf33",
   "metadata": {},
   "outputs": [
    {
     "data": {
      "text/html": [
       "<div>\n",
       "<style scoped>\n",
       "    .dataframe tbody tr th:only-of-type {\n",
       "        vertical-align: middle;\n",
       "    }\n",
       "\n",
       "    .dataframe tbody tr th {\n",
       "        vertical-align: top;\n",
       "    }\n",
       "\n",
       "    .dataframe thead th {\n",
       "        text-align: right;\n",
       "    }\n",
       "</style>\n",
       "<table border=\"1\" class=\"dataframe\">\n",
       "  <thead>\n",
       "    <tr style=\"text-align: right;\">\n",
       "      <th></th>\n",
       "      <th>fixed acidity</th>\n",
       "      <th>volatile acidity</th>\n",
       "      <th>citric acid</th>\n",
       "      <th>residual sugar</th>\n",
       "      <th>chlorides</th>\n",
       "      <th>free sulfur dioxide</th>\n",
       "      <th>total sulfur dioxide</th>\n",
       "      <th>density</th>\n",
       "      <th>pH</th>\n",
       "      <th>sulphates</th>\n",
       "      <th>alcohol</th>\n",
       "      <th>quality</th>\n",
       "    </tr>\n",
       "  </thead>\n",
       "  <tbody>\n",
       "    <tr>\n",
       "      <th>0</th>\n",
       "      <td>7.4</td>\n",
       "      <td>0.700</td>\n",
       "      <td>0.00</td>\n",
       "      <td>1.9</td>\n",
       "      <td>0.076</td>\n",
       "      <td>11.0</td>\n",
       "      <td>34.0</td>\n",
       "      <td>0.99780</td>\n",
       "      <td>3.51</td>\n",
       "      <td>0.56</td>\n",
       "      <td>9.4</td>\n",
       "      <td>5</td>\n",
       "    </tr>\n",
       "    <tr>\n",
       "      <th>1</th>\n",
       "      <td>7.8</td>\n",
       "      <td>0.880</td>\n",
       "      <td>0.00</td>\n",
       "      <td>2.6</td>\n",
       "      <td>0.098</td>\n",
       "      <td>25.0</td>\n",
       "      <td>67.0</td>\n",
       "      <td>0.99680</td>\n",
       "      <td>3.20</td>\n",
       "      <td>0.68</td>\n",
       "      <td>9.8</td>\n",
       "      <td>5</td>\n",
       "    </tr>\n",
       "    <tr>\n",
       "      <th>2</th>\n",
       "      <td>7.8</td>\n",
       "      <td>0.760</td>\n",
       "      <td>0.04</td>\n",
       "      <td>2.3</td>\n",
       "      <td>0.092</td>\n",
       "      <td>15.0</td>\n",
       "      <td>54.0</td>\n",
       "      <td>0.99700</td>\n",
       "      <td>3.26</td>\n",
       "      <td>0.65</td>\n",
       "      <td>9.8</td>\n",
       "      <td>5</td>\n",
       "    </tr>\n",
       "    <tr>\n",
       "      <th>3</th>\n",
       "      <td>11.2</td>\n",
       "      <td>0.280</td>\n",
       "      <td>0.56</td>\n",
       "      <td>1.9</td>\n",
       "      <td>0.075</td>\n",
       "      <td>17.0</td>\n",
       "      <td>60.0</td>\n",
       "      <td>0.99800</td>\n",
       "      <td>3.16</td>\n",
       "      <td>0.58</td>\n",
       "      <td>9.8</td>\n",
       "      <td>6</td>\n",
       "    </tr>\n",
       "    <tr>\n",
       "      <th>4</th>\n",
       "      <td>7.4</td>\n",
       "      <td>0.700</td>\n",
       "      <td>0.00</td>\n",
       "      <td>1.9</td>\n",
       "      <td>0.076</td>\n",
       "      <td>11.0</td>\n",
       "      <td>34.0</td>\n",
       "      <td>0.99780</td>\n",
       "      <td>3.51</td>\n",
       "      <td>0.56</td>\n",
       "      <td>9.4</td>\n",
       "      <td>5</td>\n",
       "    </tr>\n",
       "    <tr>\n",
       "      <th>...</th>\n",
       "      <td>...</td>\n",
       "      <td>...</td>\n",
       "      <td>...</td>\n",
       "      <td>...</td>\n",
       "      <td>...</td>\n",
       "      <td>...</td>\n",
       "      <td>...</td>\n",
       "      <td>...</td>\n",
       "      <td>...</td>\n",
       "      <td>...</td>\n",
       "      <td>...</td>\n",
       "      <td>...</td>\n",
       "    </tr>\n",
       "    <tr>\n",
       "      <th>1594</th>\n",
       "      <td>6.2</td>\n",
       "      <td>0.600</td>\n",
       "      <td>0.08</td>\n",
       "      <td>2.0</td>\n",
       "      <td>0.090</td>\n",
       "      <td>32.0</td>\n",
       "      <td>44.0</td>\n",
       "      <td>0.99490</td>\n",
       "      <td>3.45</td>\n",
       "      <td>0.58</td>\n",
       "      <td>10.5</td>\n",
       "      <td>5</td>\n",
       "    </tr>\n",
       "    <tr>\n",
       "      <th>1595</th>\n",
       "      <td>5.9</td>\n",
       "      <td>0.550</td>\n",
       "      <td>0.10</td>\n",
       "      <td>2.2</td>\n",
       "      <td>0.062</td>\n",
       "      <td>39.0</td>\n",
       "      <td>51.0</td>\n",
       "      <td>0.99512</td>\n",
       "      <td>3.52</td>\n",
       "      <td>0.76</td>\n",
       "      <td>11.2</td>\n",
       "      <td>6</td>\n",
       "    </tr>\n",
       "    <tr>\n",
       "      <th>1596</th>\n",
       "      <td>6.3</td>\n",
       "      <td>0.510</td>\n",
       "      <td>0.13</td>\n",
       "      <td>2.3</td>\n",
       "      <td>0.076</td>\n",
       "      <td>29.0</td>\n",
       "      <td>40.0</td>\n",
       "      <td>0.99574</td>\n",
       "      <td>3.42</td>\n",
       "      <td>0.75</td>\n",
       "      <td>11.0</td>\n",
       "      <td>6</td>\n",
       "    </tr>\n",
       "    <tr>\n",
       "      <th>1597</th>\n",
       "      <td>5.9</td>\n",
       "      <td>0.645</td>\n",
       "      <td>0.12</td>\n",
       "      <td>2.0</td>\n",
       "      <td>0.075</td>\n",
       "      <td>32.0</td>\n",
       "      <td>44.0</td>\n",
       "      <td>0.99547</td>\n",
       "      <td>3.57</td>\n",
       "      <td>0.71</td>\n",
       "      <td>10.2</td>\n",
       "      <td>5</td>\n",
       "    </tr>\n",
       "    <tr>\n",
       "      <th>1598</th>\n",
       "      <td>6.0</td>\n",
       "      <td>0.310</td>\n",
       "      <td>0.47</td>\n",
       "      <td>3.6</td>\n",
       "      <td>0.067</td>\n",
       "      <td>18.0</td>\n",
       "      <td>42.0</td>\n",
       "      <td>0.99549</td>\n",
       "      <td>3.39</td>\n",
       "      <td>0.66</td>\n",
       "      <td>11.0</td>\n",
       "      <td>6</td>\n",
       "    </tr>\n",
       "  </tbody>\n",
       "</table>\n",
       "<p>1599 rows × 12 columns</p>\n",
       "</div>"
      ],
      "text/plain": [
       "      fixed acidity  volatile acidity  citric acid  residual sugar  chlorides  \\\n",
       "0               7.4             0.700         0.00             1.9      0.076   \n",
       "1               7.8             0.880         0.00             2.6      0.098   \n",
       "2               7.8             0.760         0.04             2.3      0.092   \n",
       "3              11.2             0.280         0.56             1.9      0.075   \n",
       "4               7.4             0.700         0.00             1.9      0.076   \n",
       "...             ...               ...          ...             ...        ...   \n",
       "1594            6.2             0.600         0.08             2.0      0.090   \n",
       "1595            5.9             0.550         0.10             2.2      0.062   \n",
       "1596            6.3             0.510         0.13             2.3      0.076   \n",
       "1597            5.9             0.645         0.12             2.0      0.075   \n",
       "1598            6.0             0.310         0.47             3.6      0.067   \n",
       "\n",
       "      free sulfur dioxide  total sulfur dioxide  density    pH  sulphates  \\\n",
       "0                    11.0                  34.0  0.99780  3.51       0.56   \n",
       "1                    25.0                  67.0  0.99680  3.20       0.68   \n",
       "2                    15.0                  54.0  0.99700  3.26       0.65   \n",
       "3                    17.0                  60.0  0.99800  3.16       0.58   \n",
       "4                    11.0                  34.0  0.99780  3.51       0.56   \n",
       "...                   ...                   ...      ...   ...        ...   \n",
       "1594                 32.0                  44.0  0.99490  3.45       0.58   \n",
       "1595                 39.0                  51.0  0.99512  3.52       0.76   \n",
       "1596                 29.0                  40.0  0.99574  3.42       0.75   \n",
       "1597                 32.0                  44.0  0.99547  3.57       0.71   \n",
       "1598                 18.0                  42.0  0.99549  3.39       0.66   \n",
       "\n",
       "      alcohol  quality  \n",
       "0         9.4        5  \n",
       "1         9.8        5  \n",
       "2         9.8        5  \n",
       "3         9.8        6  \n",
       "4         9.4        5  \n",
       "...       ...      ...  \n",
       "1594     10.5        5  \n",
       "1595     11.2        6  \n",
       "1596     11.0        6  \n",
       "1597     10.2        5  \n",
       "1598     11.0        6  \n",
       "\n",
       "[1599 rows x 12 columns]"
      ]
     },
     "execution_count": 2,
     "metadata": {},
     "output_type": "execute_result"
    }
   ],
   "source": [
    "filename = \"./winequality-red.csv\"\n",
    "df = pd.read_csv(filename, delimiter = ';')\n",
    "df"
   ]
  },
  {
   "attachments": {},
   "cell_type": "markdown",
   "id": "28ff1087",
   "metadata": {},
   "source": [
    "## Feature Selection\n",
    "TODO (if time)"
   ]
  },
  {
   "cell_type": "code",
   "execution_count": 3,
   "id": "593f980d",
   "metadata": {},
   "outputs": [],
   "source": [
    "X = df.values[:,0:-1]\n",
    "y = df.values[:,-1]"
   ]
  },
  {
   "attachments": {},
   "cell_type": "markdown",
   "id": "fddadc14",
   "metadata": {},
   "source": [
    "## Experimental Setup \n",
    "\n",
    "We are using Python with the numpy and pandas libraries, as well as classifiers from the sklearn library. We are processing the data by (...). The algorithms we are considering are (...). For each algorithm (including choice of hyperparameters) we are using K-folds cross validation with K=5 and for each fold checking the mean accuracy. (But question - if we use a classifier but also e.g. linear regression, how do we compare performance?)\n",
    "\n",
    "TODO \n",
    "- test various hyperparameters (I just picked random ones)\n",
    "- research accuracy_score and make sure it's the performance metric we want to use\n",
    "- \"Make sure that the way you evaluate this avoids bias and overfitting\"\n",
    "- write up"
   ]
  },
  {
   "cell_type": "code",
   "execution_count": 4,
   "id": "32694017",
   "metadata": {},
   "outputs": [
    {
     "data": {
      "text/plain": [
       "<matplotlib.collections.PathCollection at 0x1a45424a050>"
      ]
     },
     "execution_count": 4,
     "metadata": {},
     "output_type": "execute_result"
    },
    {
     "data": {
      "image/png": "[encoded data removed]",
      "text/plain": [
       "<Figure size 640x480 with 1 Axes>"
      ]
     },
     "metadata": {},
     "output_type": "display_data"
    }
   ],
   "source": [
    "names = [\"SVM\",\n",
    "         \"Random Forest\",\n",
    "         \"Knn\"]\n",
    "estimators = [SVC(),\n",
    "              RandomForestClassifier(),\n",
    "              KNeighborsClassifier()]\n",
    "\n",
    "X_train, X_test, y_train, y_test = train_test_split(X,y, test_size = .30, random_state = 101)\n",
    "\n",
    "results = []\n",
    "for name, est in zip(names, estimators):\n",
    "    est.fit(X_train, y_train)\n",
    "    y_pred = est.predict(X_test)\n",
    "    results.append(mean_squared_error(y_pred, y_test))\n",
    "\n",
    "results\n",
    "plt.scatter(names,results)"
   ]
  },
  {
   "attachments": {},
   "cell_type": "markdown",
   "id": "b02e2e77",
   "metadata": {},
   "source": [
    "## NOT SURE IF WE NEED ANYTHING BELOW HERE\n"
   ]
  },
  {
   "cell_type": "code",
   "execution_count": 4,
   "id": "50db3932",
   "metadata": {},
   "outputs": [
    {
     "name": "stdout",
     "output_type": "stream",
     "text": [
      "-----Support Vector Classifier-----\n",
      "Fitting 5 folds for each of 4 candidates, totalling 20 fits\n",
      "Best Parameters:  {'C': 100}\n",
      "Accuracy:  0.5958333333333333\n",
      "\n",
      "-----Knn Classifier-----\n",
      "Fitting 5 folds for each of 6 candidates, totalling 30 fits\n",
      "Best Parameters:  {'n_neighbors': 7, 'weights': 'distance'}\n",
      "Accuracy:  0.5583333333333333\n",
      "\n",
      "-----Random Forest Classifier-----\n",
      "Fitting 5 folds for each of 3 candidates, totalling 15 fits\n",
      "Best Parameters:  {'n_estimators': 20}\n",
      "Accuracy:  0.6520833333333333\n"
     ]
    }
   ],
   "source": [
    "X_train, X_test, y_train, y_test = train_test_split(X,y, test_size = .30, random_state = 101)\n",
    "\n",
    "# Support Vector Classifier\n",
    "print(\"-----Support Vector Classifier-----\")\n",
    "params = {'C': [0.1, 1, 10, 100]}\n",
    "grid = GridSearchCV(SVC(), params, refit = True, cv = 5, verbose = 3, n_jobs = -1)\n",
    "grid.fit(X_train, y_train)\n",
    "print(\"Best Parameters: \", grid.best_params_)\n",
    "y_pred = grid.predict(X_test)\n",
    "#print(classification_report(y_test, grid_predictions))\n",
    "print(\"Accuracy: \", accuracy_score(y_test, y_pred))\n",
    "\n",
    "# KNN\n",
    "print(\"\\n-----Knn Classifier-----\")\n",
    "params = {'n_neighbors': [3,5,7], \n",
    "          'weights': ['uniform', 'distance']}\n",
    "grid = GridSearchCV(KNeighborsClassifier(), params, refit = True, cv = 5, verbose = 3, n_jobs = -1)\n",
    "grid.fit(X_train, y_train)\n",
    "print(\"Best Parameters: \", grid.best_params_)\n",
    "y_pred = grid.predict(X_test)\n",
    "#print(classification_report(y_test, grid_predictions))\n",
    "print(\"Accuracy: \", accuracy_score(y_test, y_pred))\n",
    "\n",
    "# Random Forest\n",
    "print(\"\\n-----Random Forest Classifier-----\")\n",
    "params = {'n_estimators': [5,10,20]}\n",
    "grid = GridSearchCV(RandomForestClassifier(), params, refit = True, cv = 5, verbose = 3, n_jobs = -1)\n",
    "grid.fit(X_train, y_train)\n",
    "print(\"Best Parameters: \", grid.best_params_)\n",
    "y_pred = grid.predict(X_test)\n",
    "#print(classification_report(y_test, grid_predictions))\n",
    "print(\"Accuracy: \", accuracy_score(y_test, y_pred))"
   ]
  },
  {
   "attachments": {},
   "cell_type": "markdown",
   "id": "9fafc7a6",
   "metadata": {},
   "source": [
    "## Results\n",
    "TODO -\n",
    "- display results in a fancy way (GridSearchCV might have something)\n",
    "- choose and fit model\n",
    "- display model in a fancy way?\n",
    "- write up"
   ]
  },
  {
   "cell_type": "code",
   "execution_count": 24,
   "id": "d8aa340e",
   "metadata": {},
   "outputs": [
    {
     "data": {
      "text/plain": [
       "array([0.515625  , 0.55625   , 0.590625  , 0.60625   , 0.57366771])"
      ]
     },
     "execution_count": 24,
     "metadata": {},
     "output_type": "execute_result"
    }
   ],
   "source": [
    "X = df.values[:,0:-1]\n",
    "y = df.values[:,-1]\n",
    "cross_val_score(RandomForestClassifier(), X, y, cv=5) # Gives the accuracy of each of K fold tests for a Random Forest with all default hyperparameters"
   ]
  },
  {
   "cell_type": "markdown",
   "id": "2b0133ab",
   "metadata": {},
   "source": [
    "### Random Forest Classifier"
   ]
  },
  {
   "cell_type": "code",
   "execution_count": null,
   "id": "5df42748",
   "metadata": {},
   "outputs": [],
   "source": [
    "cross_val_score(RandomForestClassifier(), X, y, cv=5) # Gives the accuracy of each of K fold tests for a Random Forest "
   ]
  },
  {
   "cell_type": "code",
   "execution_count": 14,
   "id": "b563d08c",
   "metadata": {},
   "outputs": [],
   "source": [
    "#This was just me doing the above the longer way to see all the pieces\n",
    "kf = KFold(n_splits = 5)\n",
    "scores = np.zeros(5)\n",
    "for i, (train_index, test_index) in enumerate(kf.split(X)):\n",
    "    X_train = df.values[train_index, 0:-1]\n",
    "    y_train = df.values[train_index, -1]\n",
    "    X_test = df.values[test_index, 0:-1]\n",
    "    y_test = df.values[test_index, -1]\n",
    "    rfmodel = RandomForestClassifier().fit(X_train, y_train)\n",
    "    scores[i]= rfmodel.score(X_test,y_test)"
   ]
  },
  {
   "cell_type": "code",
   "execution_count": null,
   "id": "294f2701",
   "metadata": {},
   "outputs": [],
   "source": []
  }
 ],
 "metadata": {
  "kernelspec": {
   "display_name": "Python 3",
   "language": "python",
   "name": "python3"
  },
  "language_info": {
   "codemirror_mode": {
    "name": "ipython",
    "version": 3
   },
   "file_extension": ".py",
   "mimetype": "text/x-python",
   "name": "python",
   "nbconvert_exporter": "python",
   "pygments_lexer": "ipython3",
   "version": "3.10.10"
  },
  "vscode": {
   "interpreter": {
    "hash": "99c8772be7a42d3e7dfb23e3f09493b2460db951f4a8d78f271dcc6a026d4283"
   }
  }
 },
 "nbformat": 4,
 "nbformat_minor": 5
}
