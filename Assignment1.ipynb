{
 "cells": [
  {
   "attachments": {},
   "cell_type": "markdown",
   "id": "766e2b21",
   "metadata": {},
   "source": [
    "## Introduction\n",
    "The Franz Butler Vineyard (TM) would like to predict how much they can charge for a bottle of wine from their vineyard. The local market has three main price points: Boxed, Good, and Fancy. They would first like to compare various categorical Machine Learning models to decide the most accurate model for predicting the quality of a wine, based on 11 testable features."
   ]
  },
  {
   "cell_type": "code",
   "execution_count": 14,
   "id": "41b8176f",
   "metadata": {},
   "outputs": [],
   "source": [
    "# Run for required packages\n",
    "import pandas as pd\n",
    "import numpy as np\n",
    "import matplotlib.pyplot as plt\n",
    "import collections\n",
    "from sklearn import preprocessing\n",
    "from sklearn import tree\n",
    "from sklearn.model_selection import train_test_split\n",
    "from sklearn.model_selection import KFold\n",
    "from sklearn.model_selection import GridSearchCV\n",
    "from sklearn.model_selection import cross_val_score\n",
    "from sklearn.svm import SVC\n",
    "from sklearn.ensemble import RandomForestClassifier, AdaBoostClassifier\n",
    "from sklearn.neighbors import KNeighborsClassifier\n",
    "from sklearn.neural_network import MLPClassifier\n",
    "from sklearn.metrics import classification_report, confusion_matrix #accuracy metrics for each classification\n",
    "from sklearn.metrics import mean_squared_error, accuracy_score\n",
    "from sklearn.feature_selection import SelectKBest, f_classif"
   ]
  },
  {
   "attachments": {},
   "cell_type": "markdown",
   "id": "498ed708",
   "metadata": {},
   "source": [
    "## Dataset Description\n",
    "Our dataset consists of quantitative descriptions of various wines. There are 1599 wines sampled. We have 11 features for each observation, each with a numeric rating of a physiochemical property of the wine such as alcohol content and acidity. The output variable we seek to predict corresponds to the quality rating of each wine, from sensory data. There are no missing values. \n",
    "\n",
    "A closer inspection of the quality outputs shows a total of 6 integer categories (3-6). However there is also a clear partition, based on the distibution, into 3 subcategories (3-4, 5-6, 7-8). This leads to the hypothesis that we can look at predicting if a wine is of quality Box, Good, or Fancy using these subcategories."
   ]
  },
  {
   "cell_type": "code",
   "execution_count": 4,
   "id": "fa0fdf33",
   "metadata": {},
   "outputs": [
    {
     "data": {
      "text/html": [
       "<div>\n",
       "<style scoped>\n",
       "    .dataframe tbody tr th:only-of-type {\n",
       "        vertical-align: middle;\n",
       "    }\n",
       "\n",
       "    .dataframe tbody tr th {\n",
       "        vertical-align: top;\n",
       "    }\n",
       "\n",
       "    .dataframe thead th {\n",
       "        text-align: right;\n",
       "    }\n",
       "</style>\n",
       "<table border=\"1\" class=\"dataframe\">\n",
       "  <thead>\n",
       "    <tr style=\"text-align: right;\">\n",
       "      <th></th>\n",
       "      <th>fixed acidity</th>\n",
       "      <th>volatile acidity</th>\n",
       "      <th>citric acid</th>\n",
       "      <th>residual sugar</th>\n",
       "      <th>chlorides</th>\n",
       "      <th>free sulfur dioxide</th>\n",
       "      <th>total sulfur dioxide</th>\n",
       "      <th>density</th>\n",
       "      <th>pH</th>\n",
       "      <th>sulphates</th>\n",
       "      <th>alcohol</th>\n",
       "      <th>quality</th>\n",
       "    </tr>\n",
       "  </thead>\n",
       "  <tbody>\n",
       "    <tr>\n",
       "      <th>0</th>\n",
       "      <td>7.4</td>\n",
       "      <td>0.70</td>\n",
       "      <td>0.00</td>\n",
       "      <td>1.9</td>\n",
       "      <td>0.076</td>\n",
       "      <td>11.0</td>\n",
       "      <td>34.0</td>\n",
       "      <td>0.9978</td>\n",
       "      <td>3.51</td>\n",
       "      <td>0.56</td>\n",
       "      <td>9.4</td>\n",
       "      <td>5</td>\n",
       "    </tr>\n",
       "    <tr>\n",
       "      <th>1</th>\n",
       "      <td>7.8</td>\n",
       "      <td>0.88</td>\n",
       "      <td>0.00</td>\n",
       "      <td>2.6</td>\n",
       "      <td>0.098</td>\n",
       "      <td>25.0</td>\n",
       "      <td>67.0</td>\n",
       "      <td>0.9968</td>\n",
       "      <td>3.20</td>\n",
       "      <td>0.68</td>\n",
       "      <td>9.8</td>\n",
       "      <td>5</td>\n",
       "    </tr>\n",
       "    <tr>\n",
       "      <th>2</th>\n",
       "      <td>7.8</td>\n",
       "      <td>0.76</td>\n",
       "      <td>0.04</td>\n",
       "      <td>2.3</td>\n",
       "      <td>0.092</td>\n",
       "      <td>15.0</td>\n",
       "      <td>54.0</td>\n",
       "      <td>0.9970</td>\n",
       "      <td>3.26</td>\n",
       "      <td>0.65</td>\n",
       "      <td>9.8</td>\n",
       "      <td>5</td>\n",
       "    </tr>\n",
       "    <tr>\n",
       "      <th>3</th>\n",
       "      <td>11.2</td>\n",
       "      <td>0.28</td>\n",
       "      <td>0.56</td>\n",
       "      <td>1.9</td>\n",
       "      <td>0.075</td>\n",
       "      <td>17.0</td>\n",
       "      <td>60.0</td>\n",
       "      <td>0.9980</td>\n",
       "      <td>3.16</td>\n",
       "      <td>0.58</td>\n",
       "      <td>9.8</td>\n",
       "      <td>6</td>\n",
       "    </tr>\n",
       "    <tr>\n",
       "      <th>4</th>\n",
       "      <td>7.4</td>\n",
       "      <td>0.70</td>\n",
       "      <td>0.00</td>\n",
       "      <td>1.9</td>\n",
       "      <td>0.076</td>\n",
       "      <td>11.0</td>\n",
       "      <td>34.0</td>\n",
       "      <td>0.9978</td>\n",
       "      <td>3.51</td>\n",
       "      <td>0.56</td>\n",
       "      <td>9.4</td>\n",
       "      <td>5</td>\n",
       "    </tr>\n",
       "  </tbody>\n",
       "</table>\n",
       "</div>"
      ],
      "text/plain": [
       "   fixed acidity  volatile acidity  citric acid  residual sugar  chlorides  \\\n",
       "0            7.4              0.70         0.00             1.9      0.076   \n",
       "1            7.8              0.88         0.00             2.6      0.098   \n",
       "2            7.8              0.76         0.04             2.3      0.092   \n",
       "3           11.2              0.28         0.56             1.9      0.075   \n",
       "4            7.4              0.70         0.00             1.9      0.076   \n",
       "\n",
       "   free sulfur dioxide  total sulfur dioxide  density    pH  sulphates  \\\n",
       "0                 11.0                  34.0   0.9978  3.51       0.56   \n",
       "1                 25.0                  67.0   0.9968  3.20       0.68   \n",
       "2                 15.0                  54.0   0.9970  3.26       0.65   \n",
       "3                 17.0                  60.0   0.9980  3.16       0.58   \n",
       "4                 11.0                  34.0   0.9978  3.51       0.56   \n",
       "\n",
       "   alcohol  quality  \n",
       "0      9.4        5  \n",
       "1      9.8        5  \n",
       "2      9.8        5  \n",
       "3      9.8        6  \n",
       "4      9.4        5  "
      ]
     },
     "execution_count": 4,
     "metadata": {},
     "output_type": "execute_result"
    }
   ],
   "source": [
    "#Read in data\n",
    "filename = \"./winequality-red.csv\"\n",
    "df = pd.read_csv(filename, delimiter = ';')\n",
    "X = df.values[:,0:-1]\n",
    "y = df.values[:,-1]\n",
    "\n",
    "#Normalize Feature Data\n",
    "X = preprocessing.normalize(X)\n",
    "\n",
    "#Print dataset\n",
    "df.head()"
   ]
  },
  {
   "cell_type": "code",
   "execution_count": 43,
   "id": "56ee50a6",
   "metadata": {},
   "outputs": [
    {
     "name": "stdout",
     "output_type": "stream",
     "text": [
      "[2. 2. 2. ... 2. 2. 2.]\n"
     ]
    },
    {
     "data": {
      "text/plain": [
       "[<matplotlib.axis.XTick at 0x258578a2920>,\n",
       " <matplotlib.axis.XTick at 0x258578a28f0>,\n",
       " <matplotlib.axis.XTick at 0x25854c50550>]"
      ]
     },
     "execution_count": 43,
     "metadata": {},
     "output_type": "execute_result"
    },
    {
     "data": {
      "image/png": "[encoded data removed]",
      "text/plain": [
       "<Figure size 1200x300 with 2 Axes>"
      ]
     },
     "metadata": {},
     "output_type": "display_data"
    }
   ],
   "source": [
    "\n",
    "# Create subcategories for y data and count frequency\n",
    "y_threecat = (y - 1) // 2 # if 3-4 then 1-Box, if 5-6 then 2-Good, if 7-8 then 3-Fancy\n",
    "names_threecat = [\"Box\", \"Good\", \"Fancy\"]\n",
    "print(y_threecat)\n",
    "d = collections.Counter(y)\n",
    "d_threecat = collections.Counter(y_threecat)\n",
    "\n",
    "# Plot \n",
    "fig = plt.figure(figsize=(12,3))\n",
    "plt.subplot(121)\n",
    "plt.bar(d.keys(), d.values())\n",
    "plt.title(\"6 Categories\")\n",
    "plt.xlabel(\"Category\")\n",
    "plt.ylabel(\"Frequency\")\n",
    "ax = plt.subplot(122)\n",
    "plt.bar(d_threecat.keys(), d_threecat.values(), width=.25)\n",
    "plt.title(\"3 Subcategories\")\n",
    "plt.xlabel(\"Category\")\n",
    "plt.ylabel(\"Frequency\")\n",
    "ax.set_xticks([1,2,3], names_threecat)\n"
   ]
  },
  {
   "attachments": {},
   "cell_type": "markdown",
   "id": "fddadc14",
   "metadata": {},
   "source": [
    "## Experimental Setup \n",
    "\n",
    "TODO"
   ]
  },
  {
   "cell_type": "code",
   "execution_count": 45,
   "id": "91b8ed8c",
   "metadata": {},
   "outputs": [
    {
     "data": {
      "image/png": "[encoded data removed]",
      "text/plain": [
       "<Figure size 1200x500 with 2 Axes>"
      ]
     },
     "metadata": {},
     "output_type": "display_data"
    }
   ],
   "source": [
    "# ML Estimators to test\n",
    "names = [\"Decision\\n Tree\",\n",
    "         \"Random\\n Forest\",\n",
    "         \"AdaBoost\",\n",
    "         \"Knn\",\n",
    "         \"SVM\"\n",
    "         ]\n",
    "estimators = [tree.DecisionTreeClassifier(),\n",
    "              RandomForestClassifier(),\n",
    "              AdaBoostClassifier(),\n",
    "              KNeighborsClassifier(),\n",
    "              SVC()\n",
    "              ]\n",
    "\n",
    "num_kfolds = 10\n",
    "\n",
    "# Split data (if needed)\n",
    "X_train = X\n",
    "y_train = y\n",
    "#X_train, X_test, y_train, y_test = train_test_split(X,y, test_size = .30, random_state = 101)\n",
    "\n",
    "# Try 3 category approach\n",
    "y_train_threecat = y_threecat\n",
    "#y_test_threecat = (y_test - 1) // 2\n",
    "\n",
    "# Initilize storge for accuaccy measure\n",
    "num_est = len(estimators)\n",
    "acc = np.zeros([num_est, num_kfolds])\n",
    "acc_threecat = np.zeros([num_est, num_kfolds])\n",
    "\n",
    "# Run CV for each estimator and gather accuracy scores\n",
    "for name, est in zip(names, estimators):\n",
    "    acc[estimators.index(est), :] = cross_val_score(est, X_train, y_train, cv=num_kfolds)\n",
    "    acc_threecat[estimators.index(est), :] = cross_val_score(est, X_train, y_train_threecat, cv=num_kfolds)\n",
    "\n",
    "# Plot results\n",
    "fig = plt.figure(figsize=(12,5))\n",
    "plt.subplot(121)\n",
    "plt.boxplot(acc.T, patch_artist=True, labels=names)\n",
    "plt.ylim([0,1])\n",
    "plt.title(\"Six Categories\")\n",
    "plt.subplot(122)\n",
    "plt.boxplot(acc_threecat.T, patch_artist=True, labels=names)\n",
    "plt.ylim([0,1])\n",
    "plt.title(\"Three Categories\")\n",
    "plt.show()"
   ]
  },
  {
   "attachments": {},
   "cell_type": "markdown",
   "id": "5e229215",
   "metadata": {},
   "source": [
    "## Results\n",
    "For the 6 original categories, a Random Forest model has the highest accuracy of roughly 50%. By decreasing the output to 3 subcategories, we see a significant increase in accuracy with a jump of around 30%. Although the Support Vector Machine performed slightly better, a Random Forest model still has a comparable accuracy. In conclusion, we recommend the Franz Butler Vineyard pursue a Random Forest to determine the pricing point of future wine production."
   ]
  },
  {
   "cell_type": "markdown",
   "id": "a420830a",
   "metadata": {},
   "source": [
    "## Resources Used\n",
    "https://scikit-learn.org/stable/auto_examples/classification/plot_classifier_comparison.html"
   ]
  },
  {
   "attachments": {},
   "cell_type": "markdown",
   "id": "81d453b7",
   "metadata": {},
   "source": [
    "## DELETE BELOW?"
   ]
  },
  {
   "cell_type": "code",
   "execution_count": null,
   "id": "32694017",
   "metadata": {},
   "outputs": [
    {
     "data": {
      "image/png": "[encoded data removed]",
      "text/plain": [
       "<Figure size 640x480 with 1 Axes>"
      ]
     },
     "metadata": {},
     "output_type": "display_data"
    }
   ],
   "source": [
    "# ML Estimators to test\n",
    "names = [\"SVM\",\n",
    "         \"Random Forest\",\n",
    "         \"AdaBoost\",\n",
    "         \"Knn\"\n",
    "         ]\n",
    "estimators = [SVC(),\n",
    "              RandomForestClassifier(),\n",
    "              AdaBoostClassifier(),\n",
    "              KNeighborsClassifier(),\n",
    "              ]\n",
    "\n",
    "num_est = len(estimators)\n",
    "num_outer_splits = 3\n",
    "num_inner_splits = 2\n",
    "# Cost metrics to compare\n",
    "mse = []\n",
    "acc = np.zeros([num_est, num_outer_splits*num_inner_splits])\n",
    "mse_threecat = []\n",
    "acc_threecat = []\n",
    "\n",
    "# Outer CV\n",
    "kf = KFold(n_splits=num_outer_splits)\n",
    "for out, (train_index, test_index) in enumerate(kf.split(X)):\n",
    "    X_train = df.values[train_index, 0:-1]\n",
    "    y_train = df.values[train_index, -1]\n",
    "    temp = zeros(num_est, num_inner_splits)\n",
    "    # Run CV on each estimator\n",
    "    for name, est in zip(names, estimators):\n",
    "        #print(names.index(name))\n",
    "        temp[estimators.index(est), :] = cross_val_score(est, X_train, y_train, cv=num_inner_splits)\n",
    "        #est.fit(X_train, y_train)\n",
    "        #y_pred = est.predict(X_test)\n",
    "        #mse.append(mean_squared_error(y_pred, y_test))\n",
    "        #acc.append(accuracy_score(y_pred, y_test))\n",
    "    acc = acc + temp\n",
    "\n",
    "# Average of outer CV\n",
    "#avg_acc = np.average(acc, axis=0)\n",
    "#print(avg_acc)\n",
    "# Run each estimator and evaluate cost metric for 3 condensed categories\n",
    "#for name, est in zip(names, estimators):\n",
    " #   est.fit(X_train, y_train_threecat)\n",
    "  #  y_pred_threecat = est.predict(X_test)\n",
    "  #  mse_threecat.append(mean_squared_error(y_pred_threecat, y_test_threecat))\n",
    "  #  acc_threecat.append(accuracy_score(y_pred_threecat, y_test_threecat))\n",
    "\n",
    "# Plot results\n",
    "fig = plt.figure()\n",
    "data = \n",
    "boxplot\n",
    "#ax1 = fig.add_subplot(111)\n",
    "#ax1.scatter(names, mse, c='b', marker='o', label='Mean Squared Error 6 Categories')\n",
    "#ax1.scatter(names, avg_acc, c='m', marker='o', label='Accuracy 6 Categores')\n",
    "#ax1.scatter(names, mse_threecat, c='b', marker='s', label='Mean Squared Error 3 Categories')\n",
    "#ax1.scatter(names, acc_threecat, c='m', marker='s', label='Accuracy 3 Categories')\n",
    "#plt.legend(loc='best')\n",
    "#plt.show()"
   ]
  },
  {
   "attachments": {},
   "cell_type": "markdown",
   "id": "9fafc7a6",
   "metadata": {},
   "source": [
    "## Results\n",
    "TODO "
   ]
  }
 ],
 "metadata": {
  "kernelspec": {
   "display_name": "Python 3",
   "language": "python",
   "name": "python3"
  },
  "language_info": {
   "codemirror_mode": {
    "name": "ipython",
    "version": 3
   },
   "file_extension": ".py",
   "mimetype": "text/x-python",
   "name": "python",
   "nbconvert_exporter": "python",
   "pygments_lexer": "ipython3",
   "version": "3.10.10"
  },
  "vscode": {
   "interpreter": {
    "hash": "99c8772be7a42d3e7dfb23e3f09493b2460db951f4a8d78f271dcc6a026d4283"
   }
  }
 },
 "nbformat": 4,
 "nbformat_minor": 5
}
