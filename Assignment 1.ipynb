{
 "cells": [
  {
   "cell_type": "markdown",
   "id": "766e2b21",
   "metadata": {},
   "source": [
    "## Introduction\n",
    "The Franz Butler Vineyard (TM) would like to predict how much they can charge for a bottle of wine from their vineyard. The local market has three main price points: Boxed, Good, and Fancy.  Each of these categories contains two sub-categories that can affect pricing, albeit not as significantly. They would first like to compare various categorical Machine Learning models to decide the most accurate model for predicting the quality of a wine, based on 11 testable features."
   ]
  },
  {
   "cell_type": "code",
   "execution_count": 70,
   "id": "41b8176f",
   "metadata": {},
   "outputs": [],
   "source": [
    "# Run for required packages\n",
    "import pandas as pd\n",
    "import numpy as np\n",
    "import matplotlib.pyplot as plt\n",
    "import collections\n",
    "from sklearn import preprocessing\n",
    "from sklearn import tree\n",
    "from sklearn.model_selection import KFold\n",
    "from sklearn.svm import SVC, SVR\n",
    "from sklearn.ensemble import RandomForestClassifier, AdaBoostClassifier\n",
    "from sklearn.neighbors import KNeighborsClassifier\n",
    "from warnings import filterwarnings \n",
    "filterwarnings(\"ignore\")"
   ]
  },
  {
   "cell_type": "markdown",
   "id": "498ed708",
   "metadata": {},
   "source": [
    "## Dataset Description\n",
    "Our dataset consists of quantitative descriptions of various wines. There are 1599 wines sampled. We have 11 features for each observation, each with a numeric rating of a physiochemical property of the wine such as alcohol content and acidity. The output variable we seek to predict corresponds to the quality rating of each wine, from sensory data. There are no missing values. \n",
    "\n",
    "A closer inspection of the quality outputs shows a total of 6 integer categories (3-8) as no wine on the list scored a 1, 2, 9, or 10. However there is also a clear partition, based on the distibution, into 3 subcategories (3-4, 5-6, 7-8). This leads to the hypothesis that we can look at predicting if a wine is of quality Box, Good, or Fancy using these supercategories. By looking at the frequency of each quality rating below, we see that most wines will fall into the Good category under this classification. For some applications, this may be a precise enough classification. Since the more difficult task will likely be differentiating between wines rated 5 or 6, we proceed with all 6 categories, but we also compare our results with those we would obtain from the 3 category version of the problem."
   ]
  },
  {
   "cell_type": "code",
   "execution_count": 72,
   "id": "fa0fdf33",
   "metadata": {},
   "outputs": [
    {
     "data": {
      "text/html": [
       "<div>\n",
       "<style scoped>\n",
       "    .dataframe tbody tr th:only-of-type {\n",
       "        vertical-align: middle;\n",
       "    }\n",
       "\n",
       "    .dataframe tbody tr th {\n",
       "        vertical-align: top;\n",
       "    }\n",
       "\n",
       "    .dataframe thead th {\n",
       "        text-align: right;\n",
       "    }\n",
       "</style>\n",
       "<table border=\"1\" class=\"dataframe\">\n",
       "  <thead>\n",
       "    <tr style=\"text-align: right;\">\n",
       "      <th></th>\n",
       "      <th>fixed acidity</th>\n",
       "      <th>volatile acidity</th>\n",
       "      <th>citric acid</th>\n",
       "      <th>residual sugar</th>\n",
       "      <th>chlorides</th>\n",
       "      <th>free sulfur dioxide</th>\n",
       "      <th>total sulfur dioxide</th>\n",
       "      <th>density</th>\n",
       "      <th>pH</th>\n",
       "      <th>sulphates</th>\n",
       "      <th>alcohol</th>\n",
       "      <th>quality</th>\n",
       "    </tr>\n",
       "  </thead>\n",
       "  <tbody>\n",
       "    <tr>\n",
       "      <th>0</th>\n",
       "      <td>7.4</td>\n",
       "      <td>0.70</td>\n",
       "      <td>0.00</td>\n",
       "      <td>1.9</td>\n",
       "      <td>0.076</td>\n",
       "      <td>11.0</td>\n",
       "      <td>34.0</td>\n",
       "      <td>0.9978</td>\n",
       "      <td>3.51</td>\n",
       "      <td>0.56</td>\n",
       "      <td>9.4</td>\n",
       "      <td>5</td>\n",
       "    </tr>\n",
       "    <tr>\n",
       "      <th>1</th>\n",
       "      <td>7.8</td>\n",
       "      <td>0.88</td>\n",
       "      <td>0.00</td>\n",
       "      <td>2.6</td>\n",
       "      <td>0.098</td>\n",
       "      <td>25.0</td>\n",
       "      <td>67.0</td>\n",
       "      <td>0.9968</td>\n",
       "      <td>3.20</td>\n",
       "      <td>0.68</td>\n",
       "      <td>9.8</td>\n",
       "      <td>5</td>\n",
       "    </tr>\n",
       "    <tr>\n",
       "      <th>2</th>\n",
       "      <td>7.8</td>\n",
       "      <td>0.76</td>\n",
       "      <td>0.04</td>\n",
       "      <td>2.3</td>\n",
       "      <td>0.092</td>\n",
       "      <td>15.0</td>\n",
       "      <td>54.0</td>\n",
       "      <td>0.9970</td>\n",
       "      <td>3.26</td>\n",
       "      <td>0.65</td>\n",
       "      <td>9.8</td>\n",
       "      <td>5</td>\n",
       "    </tr>\n",
       "    <tr>\n",
       "      <th>3</th>\n",
       "      <td>11.2</td>\n",
       "      <td>0.28</td>\n",
       "      <td>0.56</td>\n",
       "      <td>1.9</td>\n",
       "      <td>0.075</td>\n",
       "      <td>17.0</td>\n",
       "      <td>60.0</td>\n",
       "      <td>0.9980</td>\n",
       "      <td>3.16</td>\n",
       "      <td>0.58</td>\n",
       "      <td>9.8</td>\n",
       "      <td>6</td>\n",
       "    </tr>\n",
       "    <tr>\n",
       "      <th>4</th>\n",
       "      <td>7.4</td>\n",
       "      <td>0.70</td>\n",
       "      <td>0.00</td>\n",
       "      <td>1.9</td>\n",
       "      <td>0.076</td>\n",
       "      <td>11.0</td>\n",
       "      <td>34.0</td>\n",
       "      <td>0.9978</td>\n",
       "      <td>3.51</td>\n",
       "      <td>0.56</td>\n",
       "      <td>9.4</td>\n",
       "      <td>5</td>\n",
       "    </tr>\n",
       "  </tbody>\n",
       "</table>\n",
       "</div>"
      ],
      "text/plain": [
       "   fixed acidity  volatile acidity  citric acid  residual sugar  chlorides  \\\n",
       "0            7.4              0.70         0.00             1.9      0.076   \n",
       "1            7.8              0.88         0.00             2.6      0.098   \n",
       "2            7.8              0.76         0.04             2.3      0.092   \n",
       "3           11.2              0.28         0.56             1.9      0.075   \n",
       "4            7.4              0.70         0.00             1.9      0.076   \n",
       "\n",
       "   free sulfur dioxide  total sulfur dioxide  density    pH  sulphates  \\\n",
       "0                 11.0                  34.0   0.9978  3.51       0.56   \n",
       "1                 25.0                  67.0   0.9968  3.20       0.68   \n",
       "2                 15.0                  54.0   0.9970  3.26       0.65   \n",
       "3                 17.0                  60.0   0.9980  3.16       0.58   \n",
       "4                 11.0                  34.0   0.9978  3.51       0.56   \n",
       "\n",
       "   alcohol  quality  \n",
       "0      9.4        5  \n",
       "1      9.8        5  \n",
       "2      9.8        5  \n",
       "3      9.8        6  \n",
       "4      9.4        5  "
      ]
     },
     "execution_count": 72,
     "metadata": {},
     "output_type": "execute_result"
    }
   ],
   "source": [
    "#Read in data\n",
    "filename = \"./winequality-red.csv\"\n",
    "df = pd.read_csv(filename, delimiter = ';')\n",
    "X = df.values[:,0:-1]\n",
    "y = df.values[:,-1]\n",
    "\n",
    "#Normalize Feature Data\n",
    "X = preprocessing.normalize(X, axis = 0)\n",
    "\n",
    "#Print dataset\n",
    "df.head()"
   ]
  },
  {
   "cell_type": "code",
   "execution_count": 73,
   "id": "56ee50a6",
   "metadata": {},
   "outputs": [
    {
     "data": {
      "text/plain": [
       "[<matplotlib.axis.XTick at 0x7fa61d303fa0>,\n",
       " <matplotlib.axis.XTick at 0x7fa61d303f70>,\n",
       " <matplotlib.axis.XTick at 0x7fa61d303e50>]"
      ]
     },
     "execution_count": 73,
     "metadata": {},
     "output_type": "execute_result"
    },
    {
     "data": {
      "image/png": "[encoded data removed]",
      "text/plain": [
       "<Figure size 1200x300 with 2 Axes>"
      ]
     },
     "metadata": {},
     "output_type": "display_data"
    }
   ],
   "source": [
    "# Plot \n",
    "fig = plt.figure(figsize=(12,3))\n",
    "plt.subplot(121)\n",
    "plt.bar(d.keys(), d.values())\n",
    "plt.title(\"6 Categories\")\n",
    "plt.xlabel(\"Category\")\n",
    "plt.ylabel(\"Frequency\")\n",
    "ax = plt.subplot(122)\n",
    "plt.bar(d_threecat.keys(), d_threecat.values(), width=.25)\n",
    "plt.title(\"3 Subcategories\")\n",
    "plt.xlabel(\"Category\")\n",
    "plt.ylabel(\"Frequency\")\n",
    "ax.set_xticks([1,2,3], names_threecat)"
   ]
  },
  {
   "cell_type": "markdown",
   "id": "fddadc14",
   "metadata": {},
   "source": [
    "## Experimental Setup \n",
    "We select six estimators implemented in the scikit learn library: a Decision Tree classifier, a Random Forest classifier, an AdaBoost classifier, a K-nearest neighbors classifier, a Support Vector classifier, and a Support Vector Regression. The cost function we seek to maximize is accuracy. For the Support Vector Regression, we define accuracy to be the proportion of predicted values that, once rounded to the nearest integer, match the test values.\n",
    "\n",
    "We use k-fold Cross Validation with k = 10. This ensures that each data point is used in both testing and training and prevents overfitting to a single test-train split. Although scikit comes with helpful tools such as cross_val_score to save us the need to actually implement a k-fold Cross Validation, because we are comparing a regressor to several classifiers and wish to customize the score of the Support Vector Regression, we do implement the Cross Validation and iterate over test-train splits. We use scikit's KFold to create test-train split indices (after shuffling the data) and for each test-train split obtain an accuracy for each estimator. We compare the array of accuracy values obtained for each estimator in the box plots below, and we further include a table of the accuracies averaged over the k folds.\n",
    "\n",
    "We repeat the above process twice: once with our six category experiment, and once with only three categories for our predictions.\n",
    "\n",
    "Since we are only comparing our six estimators and selecting the one with the best average performance, we do not implement nested resampling. In order to get an unbiased performance estimate for our selected estimator, we would in theory want to test it on data not seen by the selection process, and hence would implement a nested resampling. Further, after experimenting with feature selection, we opted to keep all the features rather than performing feature selection. The only preprocessing we do is to normalize the data by feature using the L2 norm."
   ]
  },
  {
   "cell_type": "code",
   "execution_count": 75,
   "id": "91b8ed8c",
   "metadata": {},
   "outputs": [
    {
     "data": {
      "text/html": [
       "<div>\n",
       "<style scoped>\n",
       "    .dataframe tbody tr th:only-of-type {\n",
       "        vertical-align: middle;\n",
       "    }\n",
       "\n",
       "    .dataframe tbody tr th {\n",
       "        vertical-align: top;\n",
       "    }\n",
       "\n",
       "    .dataframe thead th {\n",
       "        text-align: right;\n",
       "    }\n",
       "</style>\n",
       "<table border=\"1\" class=\"dataframe\">\n",
       "  <thead>\n",
       "    <tr style=\"text-align: right;\">\n",
       "      <th></th>\n",
       "      <th>Accuracy (6 categories)</th>\n",
       "      <th>Accuracy (3 categories)</th>\n",
       "    </tr>\n",
       "  </thead>\n",
       "  <tbody>\n",
       "    <tr>\n",
       "      <th>Decision Tree</th>\n",
       "      <td>0.625366</td>\n",
       "      <td>0.816152</td>\n",
       "    </tr>\n",
       "    <tr>\n",
       "      <th>Random Forest</th>\n",
       "      <td>0.697952</td>\n",
       "      <td>0.870542</td>\n",
       "    </tr>\n",
       "    <tr>\n",
       "      <th>AdaBoost</th>\n",
       "      <td>0.524104</td>\n",
       "      <td>0.752366</td>\n",
       "    </tr>\n",
       "    <tr>\n",
       "      <th>Knn</th>\n",
       "      <td>0.567897</td>\n",
       "      <td>0.834292</td>\n",
       "    </tr>\n",
       "    <tr>\n",
       "      <th>SVM</th>\n",
       "      <td>0.579721</td>\n",
       "      <td>0.830523</td>\n",
       "    </tr>\n",
       "    <tr>\n",
       "      <th>SVR</th>\n",
       "      <td>0.888671</td>\n",
       "      <td>0.977476</td>\n",
       "    </tr>\n",
       "  </tbody>\n",
       "</table>\n",
       "</div>"
      ],
      "text/plain": [
       "               Accuracy (6 categories)  Accuracy (3 categories)\n",
       "Decision Tree                 0.625366                 0.816152\n",
       "Random Forest                 0.697952                 0.870542\n",
       "AdaBoost                      0.524104                 0.752366\n",
       "Knn                           0.567897                 0.834292\n",
       "SVM                           0.579721                 0.830523\n",
       "SVR                           0.888671                 0.977476"
      ]
     },
     "execution_count": 75,
     "metadata": {},
     "output_type": "execute_result"
    },
    {
     "data": {
      "image/png": "[encoded data removed]",
      "text/plain": [
       "<Figure size 1200x500 with 2 Axes>"
      ]
     },
     "metadata": {},
     "output_type": "display_data"
    }
   ],
   "source": [
    "# ML Estimators to test\n",
    "names = [\"Decision\\n Tree\",\n",
    "         \"Random\\n Forest\",\n",
    "         \"AdaBoost\",\n",
    "         \"Knn\",\n",
    "         \"SVM\",\n",
    "         \"SVR\"\n",
    "         ]\n",
    "estimators = [tree.DecisionTreeClassifier(),\n",
    "              RandomForestClassifier(),\n",
    "              AdaBoostClassifier(),\n",
    "              KNeighborsClassifier(),\n",
    "              SVC(),\n",
    "              SVR()\n",
    "              ]\n",
    "\n",
    "num_est = len(estimators)\n",
    "num_kfolds = 10\n",
    "\n",
    "# Use scikit learn KFold to create the test-train split indices, with data shuffled\n",
    "kf = KFold(n_splits = num_kfolds, shuffle = True)\n",
    "acc = np.zeros([num_est, num_kfolds])\n",
    "acc_threecat = np.zeros([num_est, num_kfolds])\n",
    "\n",
    "# Outer loop iterates over the K folds\n",
    "for i, (train_index, test_index) in enumerate(kf.split(X)):\n",
    "    X_train = X[train_index, :]\n",
    "    X_test = X[test_index, :]\n",
    "    y_train = y[train_index]\n",
    "    y_test = y[test_index]\n",
    "    y_train_threecat = y_threecat[train_index]\n",
    "    y_test_threecat = y_threecat[test_index]\n",
    "    # inner loop iterates over the estimators\n",
    "    for name, est in zip(names, estimators):\n",
    "        model = est.fit(X_train, y_train)\n",
    "        y_pred = model.predict(X_test)\n",
    "        temp = [abs(y_pred - y_test) < 1] \n",
    "        acc[estimators.index(est), i] = sum(sum(temp))/len(y_test)\n",
    "        \n",
    "        # Three categories part\n",
    "        model_threecat = est.fit(X_train, y_train_threecat)\n",
    "        y_pred_threecat = model.predict(X_test)\n",
    "        temp = [abs(y_pred_threecat - y_test_threecat) < 1]\n",
    "        acc_threecat[estimators.index(est), i] = sum(sum(temp))/len(y_test_threecat)\n",
    "\n",
    "# Plot results\n",
    "fig = plt.figure(figsize=(12,5))\n",
    "plt.subplot(121)\n",
    "plt.boxplot(acc.T, patch_artist=True, labels=names)\n",
    "plt.ylim([0,1])\n",
    "plt.title(\"Accuracy: 6 categories\")\n",
    "plt.subplot(122)\n",
    "plt.boxplot(acc_threecat.T, patch_artist=True, labels=names)\n",
    "plt.ylim([0,1])\n",
    "plt.title(\"Accuracy: 3 categories\")\n",
    "\n",
    "# Create table of mean accuracy for each estimator\n",
    "acc_means = np.average(acc, axis = 1)\n",
    "acc_means_threecat = np.average(acc_threecat, axis = 1)\n",
    "names2 = [\"Decision Tree\",\n",
    "         \"Random Forest\",\n",
    "         \"AdaBoost\",\n",
    "         \"Knn\",\n",
    "         \"SVM\",\n",
    "         \"SVR\"\n",
    "         ]\n",
    "means = np.column_stack((acc_means, acc_means_threecat))\n",
    "table_means = pd.DataFrame(data = means, columns =['Accuracy (6 categories)', 'Accuracy (3 categories)'], index = names2)\n",
    "table_means"
   ]
  },
  {
   "cell_type": "markdown",
   "id": "5e229215",
   "metadata": {},
   "source": [
    "## Results\n",
    "The best performing estimator in this test is the Support Vector Regression with nearly 90% accuracy. Of the classifiers tested, the Random Forest model has the highest accuracy of roughly 70%. When we look at the accuracy of each estimator after lumping wine qualities into our Boxed, Good, and Fancy categories, we see that each of the mean accuracies is improved (as we would expect) and the top performers are still the Support Vector Regression and Random Forest. The worst estimator is AdaBoost, no matter how we slice it, but the three classifiers in the middle are ranked differently depending on how we combine categories. Whether we would like to very accurately predict whether our wine is Boxed, Good, or Fancy, or predict its specific score on the ten point scale, we end up with the same best estimator. In conclusion, we recommend the Franz Butler Vineyard pursue a Support Vector Regression to determine the pricing point of future wine production."
   ]
  },
  {
   "cell_type": "markdown",
   "id": "a420830a",
   "metadata": {},
   "source": [
    "## Resources Used\n",
    "https://scikit-learn.org/stable/auto_examples/classification/plot_classifier_comparison.html"
   ]
  }
 ],
 "metadata": {
  "authors": [
   {
    "name": "Melissa Butler"
   },
   {
    "name": "Emma Franz Hughes"
   }
  ],
  "kernelspec": {
   "display_name": "Python 3 (ipykernel)",
   "language": "python",
   "name": "python3"
  },
  "language_info": {
   "codemirror_mode": {
    "name": "ipython",
    "version": 3
   },
   "file_extension": ".py",
   "mimetype": "text/x-python",
   "name": "python",
   "nbconvert_exporter": "python",
   "pygments_lexer": "ipython3",
   "version": "3.9.13"
  },
  "title": "Wine Quality Algorithm",
  "vscode": {
   "interpreter": {
    "hash": "99c8772be7a42d3e7dfb23e3f09493b2460db951f4a8d78f271dcc6a026d4283"
   }
  }
 },
 "nbformat": 4,
 "nbformat_minor": 5
}
